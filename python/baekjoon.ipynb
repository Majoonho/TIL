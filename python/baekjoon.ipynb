{
 "cells": [
  {
   "cell_type": "code",
   "execution_count": null,
   "metadata": {},
   "outputs": [],
   "source": [
    "import numpy as np"
   ]
  },
  {
   "cell_type": "code",
   "execution_count": null,
   "metadata": {},
   "outputs": [],
   "source": [
    "#백준 10950번"
   ]
  },
  {
   "cell_type": "code",
   "execution_count": null,
   "metadata": {},
   "outputs": [],
   "source": [
    "T=int(input())\n",
    "\n",
    "for i in range(T):\n",
    "\n",
    "    a, b=map(int, input().split())\n",
    "    print(a+b)"
   ]
  },
  {
   "cell_type": "code",
   "execution_count": null,
   "metadata": {},
   "outputs": [],
   "source": [
    "#백준 8393번"
   ]
  },
  {
   "cell_type": "code",
   "execution_count": null,
   "metadata": {},
   "outputs": [],
   "source": [
    "n=int(input())\n",
    "k=0\n",
    "for i in range(1,n+1):\n",
    "    k+=i\n",
    "    \n",
    "print(k)"
   ]
  },
  {
   "cell_type": "code",
   "execution_count": null,
   "metadata": {},
   "outputs": [],
   "source": [
    "#백준 15552번"
   ]
  },
  {
   "cell_type": "code",
   "execution_count": null,
   "metadata": {},
   "outputs": [],
   "source": [
    "import sys"
   ]
  },
  {
   "cell_type": "code",
   "execution_count": null,
   "metadata": {},
   "outputs": [],
   "source": [
    "T=int(input())\n",
    "\n",
    "for i in range(T):\n",
    "    a, b=map(int,input().split())\n",
    "    print(a+b)"
   ]
  },
  {
   "cell_type": "code",
   "execution_count": null,
   "metadata": {},
   "outputs": [],
   "source": [
    "#백준 2741번, 2742번"
   ]
  },
  {
   "cell_type": "code",
   "execution_count": null,
   "metadata": {},
   "outputs": [],
   "source": [
    "T=int(input())\n",
    "for i in range(0,T):\n",
    "    print(T-i)"
   ]
  },
  {
   "cell_type": "code",
   "execution_count": null,
   "metadata": {},
   "outputs": [],
   "source": [
    "#백준 11021 번"
   ]
  },
  {
   "cell_type": "code",
   "execution_count": null,
   "metadata": {},
   "outputs": [],
   "source": [
    "T=int(input())\n",
    "\n",
    "for i in range(1,T+1):\n",
    "    a,b=map(int,input().split())\n",
    "    print(f\"Case #{i}:\", a+b)\n"
   ]
  },
  {
   "cell_type": "code",
   "execution_count": null,
   "metadata": {},
   "outputs": [],
   "source": [
    "T=int(input())\n",
    "\n",
    "for i in range(1,T+1):\n",
    "    a,b=map(int,input().split())\n",
    "    print(f\"Case #{i}:\", f'{a} + {b} =', a+b)"
   ]
  },
  {
   "cell_type": "code",
   "execution_count": null,
   "metadata": {},
   "outputs": [],
   "source": [
    "#백준 10871번"
   ]
  },
  {
   "cell_type": "code",
   "execution_count": null,
   "metadata": {},
   "outputs": [],
   "source": [
    "N,X=map(int,input().split())\n",
    "\n",
    "n=map(int,input().split())\n",
    "\n",
    "b=[]\n",
    "for i in range(N) :\n",
    "    a=next(n)\n",
    "    b.append(a)\n",
    "\n",
    "for i in b :\n",
    "    if i<X :\n",
    "        print(i,end=' ')"
   ]
  },
  {
   "cell_type": "code",
   "execution_count": null,
   "metadata": {},
   "outputs": [],
   "source": [
    "N,X=map(int,input().split())\n",
    "\n",
    "b=list(map(int,input().split()))\n",
    "\n",
    "for i in range(N) :\n",
    "    if b[i]<X :\n",
    "        print(b[i],end=' ')"
   ]
  },
  {
   "cell_type": "code",
   "execution_count": null,
   "metadata": {},
   "outputs": [],
   "source": [
    "# 백준 10952번"
   ]
  },
  {
   "cell_type": "code",
   "execution_count": null,
   "metadata": {},
   "outputs": [],
   "source": [
    "while True :\n",
    "    try : \n",
    "     a,b=map(int, input().split()) \n",
    "     if  0<a<10 and 0<b<10 :\n",
    "        print(a+b)\n",
    "    except : \n",
    "     break\n",
    "    \n",
    "\n"
   ]
  },
  {
   "cell_type": "code",
   "execution_count": null,
   "metadata": {},
   "outputs": [],
   "source": [
    "print(\"Mary\\\\'s cosmetic\")"
   ]
  },
  {
   "cell_type": "code",
   "execution_count": null,
   "metadata": {},
   "outputs": [],
   "source": [
    "print(round(3.141592,2))"
   ]
  },
  {
   "cell_type": "code",
   "execution_count": null,
   "metadata": {},
   "outputs": [],
   "source": [
    "print(\"%.2f\"%  3.141592)"
   ]
  },
  {
   "cell_type": "code",
   "execution_count": null,
   "metadata": {},
   "outputs": [],
   "source": [
    "print(\"%.2f\"% 3.1435354)"
   ]
  },
  {
   "cell_type": "code",
   "execution_count": null,
   "metadata": {},
   "outputs": [],
   "source": [
    "first, second=map(int,input().split())\n",
    "print(first+second)\n"
   ]
  },
  {
   "cell_type": "code",
   "execution_count": null,
   "metadata": {},
   "outputs": [],
   "source": [
    "str=input()\n",
    "num=int(input())\n",
    "for i in range(num) :\n",
    "    print(str)"
   ]
  },
  {
   "cell_type": "code",
   "execution_count": null,
   "metadata": {},
   "outputs": [],
   "source": [
    "f,s=map(int,input().split())\n",
    "\n",
    "print('{0}/{1}={2:0.1f}'.format(f,s,f/s))\n",
    "print('{0}+{1}={2: 0.1f}'.format(f,s,f+s))\n"
   ]
  },
  {
   "cell_type": "code",
   "execution_count": null,
   "metadata": {},
   "outputs": [],
   "source": [
    "f,s=map(int,input().split())\n",
    "\n",
    "print('{0}/{1}={2:0.1f}'.format(f,s,f/s))\n"
   ]
  },
  {
   "cell_type": "code",
   "execution_count": null,
   "metadata": {},
   "outputs": [],
   "source": [
    "code = \"hellow\\t hi\\twoodi\"\n",
    "\n",
    "print(code)"
   ]
  },
  {
   "cell_type": "code",
   "execution_count": null,
   "metadata": {},
   "outputs": [],
   "source": [
    "a,b=map(int,input().split())\n",
    "if a>b :\n",
    "    print(a)\n",
    "else :\n",
    "    print(b)"
   ]
  },
  {
   "cell_type": "code",
   "execution_count": null,
   "metadata": {},
   "outputs": [],
   "source": [
    "a=input()\n",
    "print(a[:2])\n"
   ]
  },
  {
   "cell_type": "code",
   "execution_count": null,
   "metadata": {},
   "outputs": [],
   "source": [
    "a=input()\n",
    "b=list(a.split(\"-\"))\n",
    "\n",
    "print(b[1][0])\n",
    "\n"
   ]
  },
  {
   "cell_type": "code",
   "execution_count": null,
   "metadata": {},
   "outputs": [],
   "source": [
    "2 3 6\n",
    "2 4 8"
   ]
  },
  {
   "cell_type": "code",
   "execution_count": null,
   "metadata": {},
   "outputs": [],
   "source": [
    "for n in range(2,4) :\n",
    "    print(f\"--------{n}단--------\")\n",
    "    for i in range(1,10):\n",
    "    \n",
    "        print(f'{n} X {i} =','%.2d'%(n*i)) \n",
    "        \n",
    "    "
   ]
  },
  {
   "cell_type": "code",
   "execution_count": null,
   "metadata": {},
   "outputs": [],
   "source": [
    "str = \"Python in an interpreted high-level prigranin, Python, Python2, is good.  00660\\n   \""
   ]
  },
  {
   "cell_type": "code",
   "execution_count": null,
   "metadata": {},
   "outputs": [],
   "source": [
    "str2=\"woodi\""
   ]
  },
  {
   "cell_type": "code",
   "execution_count": null,
   "metadata": {},
   "outputs": [],
   "source": [
    "q=str.split(\" \")"
   ]
  },
  {
   "cell_type": "code",
   "execution_count": null,
   "metadata": {},
   "outputs": [],
   "source": [
    "print(q)"
   ]
  },
  {
   "cell_type": "code",
   "execution_count": null,
   "metadata": {},
   "outputs": [],
   "source": [
    "for i in q:\n",
    "    print(i)\n",
    "    print(len(i))"
   ]
  },
  {
   "cell_type": "code",
   "execution_count": null,
   "metadata": {},
   "outputs": [],
   "source": [
    "len(q)"
   ]
  },
  {
   "cell_type": "code",
   "execution_count": null,
   "metadata": {},
   "outputs": [],
   "source": [
    "str.strip(\" \\n\")"
   ]
  },
  {
   "cell_type": "code",
   "execution_count": null,
   "metadata": {},
   "outputs": [],
   "source": [
    "str.replace(\"a\", \"two\" )"
   ]
  },
  {
   "cell_type": "code",
   "execution_count": null,
   "metadata": {},
   "outputs": [],
   "source": [
    "print(str)"
   ]
  },
  {
   "cell_type": "code",
   "execution_count": null,
   "metadata": {},
   "outputs": [],
   "source": [
    "letters=input()\n",
    "\n",
    "if letters.count(\"n\")>0 :\n",
    "    print(\"0\")\n",
    "else :\n",
    "    print(\"-1\")"
   ]
  },
  {
   "cell_type": "code",
   "execution_count": null,
   "metadata": {},
   "outputs": [],
   "source": [
    "var1, var2 = 1 ,2"
   ]
  },
  {
   "cell_type": "code",
   "execution_count": null,
   "metadata": {},
   "outputs": [],
   "source": [
    "var1, var2"
   ]
  },
  {
   "cell_type": "code",
   "execution_count": null,
   "metadata": {},
   "outputs": [],
   "source": [
    "var1, var2 = var2, var1"
   ]
  },
  {
   "cell_type": "code",
   "execution_count": null,
   "metadata": {},
   "outputs": [],
   "source": [
    "var1, var2"
   ]
  },
  {
   "cell_type": "code",
   "execution_count": null,
   "metadata": {},
   "outputs": [],
   "source": [
    "word = {'enviroment' : ['환경',\"X\"], 'company':['회사',\"O\"], 'goverment':['정부, 정치','X'],'face':['얼굴','X']}\n"
   ]
  },
  {
   "cell_type": "code",
   "execution_count": null,
   "metadata": {},
   "outputs": [],
   "source": [
    "print(word)"
   ]
  },
  {
   "cell_type": "code",
   "execution_count": null,
   "metadata": {},
   "outputs": [],
   "source": [
    "type(word)"
   ]
  },
  {
   "cell_type": "code",
   "execution_count": null,
   "metadata": {},
   "outputs": [],
   "source": [
    "done=input()\n",
    "word[done][1]=\"O\"\n",
    "\n",
    "for i in word.keys() :\n",
    "    if word[i][1] ==\"X\" :\n",
    "        print(i)"
   ]
  },
  {
   "cell_type": "code",
   "execution_count": null,
   "metadata": {},
   "outputs": [],
   "source": [
    "word"
   ]
  },
  {
   "cell_type": "code",
   "execution_count": null,
   "metadata": {},
   "outputs": [],
   "source": [
    "dict_all= {'enviroment': '환경', 'government': '정부, 정치'}\n",
    "dict2 = { 'company': '회사', 'face': '얼굴'}\n",
    "dict3 = {'apple':'사과'}"
   ]
  },
  {
   "cell_type": "code",
   "execution_count": null,
   "metadata": {},
   "outputs": [],
   "source": [
    "import pandas as pd\n",
    "import numpy as np"
   ]
  },
  {
   "cell_type": "code",
   "execution_count": null,
   "metadata": {},
   "outputs": [],
   "source": [
    "for i, j in zip(dict3.keys(), dict3.values()) :\n",
    "    dict_all[i]=j"
   ]
  },
  {
   "cell_type": "code",
   "execution_count": null,
   "metadata": {},
   "outputs": [],
   "source": [
    "dict_all"
   ]
  },
  {
   "cell_type": "code",
   "execution_count": null,
   "metadata": {},
   "outputs": [],
   "source": [
    "indel dict3[\"face\"]"
   ]
  },
  {
   "cell_type": "code",
   "execution_count": null,
   "metadata": {},
   "outputs": [],
   "source": [
    "dict3"
   ]
  },
  {
   "cell_type": "code",
   "execution_count": null,
   "metadata": {},
   "outputs": [],
   "source": [
    "dict_all[i]="
   ]
  },
  {
   "cell_type": "code",
   "execution_count": null,
   "metadata": {},
   "outputs": [],
   "source": [
    "a.append(\"x\")"
   ]
  },
  {
   "cell_type": "code",
   "execution_count": null,
   "metadata": {},
   "outputs": [],
   "source": [
    "a\n"
   ]
  },
  {
   "cell_type": "code",
   "execution_count": null,
   "metadata": {},
   "outputs": [],
   "source": [
    "a[0] = \"p\""
   ]
  },
  {
   "cell_type": "code",
   "execution_count": null,
   "metadata": {},
   "outputs": [],
   "source": [
    "a"
   ]
  },
  {
   "cell_type": "code",
   "execution_count": null,
   "metadata": {},
   "outputs": [],
   "source": [
    "del a[3]"
   ]
  },
  {
   "cell_type": "code",
   "execution_count": null,
   "metadata": {},
   "outputs": [],
   "source": [
    "a"
   ]
  },
  {
   "cell_type": "code",
   "execution_count": null,
   "metadata": {},
   "outputs": [],
   "source": [
    "number_list=[5,1,2,2,3,3,4,5,5,6,7,8,9,9,10,10]\n",
    "number_set = set(number_list)\n",
    "print(number_set)"
   ]
  },
  {
   "cell_type": "code",
   "execution_count": null,
   "metadata": {},
   "outputs": [],
   "source": [
    "if i in number_list :\n",
    "    print(i)"
   ]
  },
  {
   "cell_type": "code",
   "execution_count": null,
   "metadata": {},
   "outputs": [],
   "source": [
    "number_list=[5,1,2,2,3,3,4,5,5,6,7,8,9,9,10,10]"
   ]
  },
  {
   "cell_type": "code",
   "execution_count": null,
   "metadata": {},
   "outputs": [],
   "source": [
    "def set(x) :\n",
    "    set1=[]\n",
    "    for i in x :\n",
    "        if i in set1:\n",
    "            pass\n",
    "        else :\n",
    "          set1.append(i)\n",
    "          set1\n",
    "    set1.sort()\n",
    "    return set1"
   ]
  },
  {
   "cell_type": "code",
   "execution_count": null,
   "metadata": {},
   "outputs": [],
   "source": [
    "x=[5,1,2,2,3,3,4,5,5,6,7,8,9,9,10,10]"
   ]
  },
  {
   "cell_type": "code",
   "execution_count": null,
   "metadata": {},
   "outputs": [],
   "source": [
    "    set1=[]\n",
    "    for i in x :\n",
    "        if i in set1:\n",
    "            pass\n",
    "        else :\n",
    "          set1.append(i)\n",
    "          set1\n",
    "    set1.sort()\n",
    "    print(set1)\n",
    "    "
   ]
  },
  {
   "cell_type": "code",
   "execution_count": null,
   "metadata": {},
   "outputs": [],
   "source": [
    "set(number_list)"
   ]
  },
  {
   "cell_type": "code",
   "execution_count": null,
   "metadata": {},
   "outputs": [],
   "source": [
    "import tensorflow as tf"
   ]
  },
  {
   "cell_type": "code",
   "execution_count": null,
   "metadata": {},
   "outputs": [],
   "source": [
    "tf.__version__"
   ]
  },
  {
   "cell_type": "code",
   "execution_count": null,
   "metadata": {},
   "outputs": [],
   "source": [
    "class node:\n",
    "    def __init__(self, data,next=None) :\n",
    "        \n",
    "        self.data=data\n",
    "        self.next=next\n",
    "        \n",
    "        \n",
    "    "
   ]
  },
  {
   "cell_type": "code",
   "execution_count": null,
   "metadata": {},
   "outputs": [],
   "source": [
    "node1=node(1)\n",
    "node2=node(2)\n",
    "node1.next = node2"
   ]
  },
  {
   "cell_type": "code",
   "execution_count": null,
   "metadata": {},
   "outputs": [],
   "source": [
    "print(node2)"
   ]
  },
  {
   "cell_type": "code",
   "execution_count": null,
   "metadata": {},
   "outputs": [],
   "source": [
    "class Node:\n",
    "    def __init__(self, data,next=None) :\n",
    "        \n",
    "        self.data=data\n",
    "        self.next=next\n",
    "     \n",
    "def add(data)   :\n",
    "    node = head\n",
    "    while node.next :\n",
    "      node = node.next\n",
    "    node.next = Node(data)\n",
    "    "
   ]
  },
  {
   "cell_type": "code",
   "execution_count": null,
   "metadata": {},
   "outputs": [],
   "source": [
    "class Node:\n",
    "    def __init__(self,data,next=None):\n",
    "        self.data=data\n",
    "        self.next=next\n",
    "        \n",
    "def add(data) :\n",
    "    node=head\n",
    "    while node.next :\n",
    "        node=node.next\n",
    "    node.next = Node(data)\n"
   ]
  },
  {
   "cell_type": "code",
   "execution_count": null,
   "metadata": {},
   "outputs": [],
   "source": [
    "node1=Node(1)\n",
    "head = node1"
   ]
  },
  {
   "cell_type": "code",
   "execution_count": null,
   "metadata": {},
   "outputs": [],
   "source": [
    "for i in range(2,10):\n",
    "    add(i)"
   ]
  },
  {
   "cell_type": "code",
   "execution_count": null,
   "metadata": {},
   "outputs": [],
   "source": [
    "node = head\n",
    "while node.next:\n",
    "    print(node.data)\n",
    "    node=node.next\n",
    "print(node.data)\n"
   ]
  },
  {
   "cell_type": "code",
   "execution_count": null,
   "metadata": {},
   "outputs": [],
   "source": [
    "node3=Node(1.5)"
   ]
  },
  {
   "cell_type": "code",
   "execution_count": null,
   "metadata": {},
   "outputs": [],
   "source": [
    "node = head\n",
    "search= True\n",
    "while search:\n",
    "    if node.data==1:\n",
    "            search=False\n",
    "    else :\n",
    "        node = node.next\n",
    "node_next=node.next\n",
    "node.next = node3\n",
    "node3.next = node_next\n",
    "    \n",
    "    "
   ]
  },
  {
   "cell_type": "code",
   "execution_count": null,
   "metadata": {},
   "outputs": [],
   "source": [
    "node = head\n",
    "while node.next :\n",
    "    print(node.data)\n",
    "    node = node.next\n",
    "print(node.data)"
   ]
  },
  {
   "cell_type": "code",
   "execution_count": null,
   "metadata": {},
   "outputs": [],
   "source": [
    "a=[3,4,5,6]\n",
    "b=[1,2,3,4]"
   ]
  },
  {
   "cell_type": "code",
   "execution_count": null,
   "metadata": {},
   "outputs": [],
   "source": [
    "hash_list= [\"o\" for i in range(10)]"
   ]
  },
  {
   "cell_type": "code",
   "execution_count": null,
   "metadata": {},
   "outputs": [],
   "source": [
    "hash_list"
   ]
  },
  {
   "cell_type": "code",
   "execution_count": null,
   "metadata": {},
   "outputs": [],
   "source": [
    "def get_key (data):\n",
    "    return hash(data)\n",
    "\n",
    "def hash_function(data):\n",
    "    return hash(data)%8\n",
    "    "
   ]
  },
  {
   "cell_type": "code",
   "execution_count": null,
   "metadata": {},
   "outputs": [],
   "source": [
    "def storage(data, value):\n",
    "    hash_list[hash_function(data)]=value\n",
    "    "
   ]
  },
  {
   "cell_type": "code",
   "execution_count": null,
   "metadata": {},
   "outputs": [],
   "source": [
    "def storage(data, value):\n",
    "    if hash_list[hash_function(data)] ==\"o\":\n",
    "        hash_list[hash_function(data)]=value\n",
    "    else :\n",
    "        print(\"데이터가 이미 있습니다.\")\n",
    "    "
   ]
  },
  {
   "cell_type": "code",
   "execution_count": null,
   "metadata": {},
   "outputs": [],
   "source": [
    "storage(\"majoonho\", \"01094852431\")"
   ]
  },
  {
   "cell_type": "code",
   "execution_count": null,
   "metadata": {},
   "outputs": [],
   "source": [
    "storage(\"majoonho\", \"01094852431\")"
   ]
  },
  {
   "cell_type": "code",
   "execution_count": null,
   "metadata": {},
   "outputs": [],
   "source": [
    "storage(\"kim\", \"01044442431\")"
   ]
  },
  {
   "cell_type": "code",
   "execution_count": null,
   "metadata": {},
   "outputs": [],
   "source": [
    "def get_Data(data):\n",
    "    return hash_list[hash_function(data)]"
   ]
  },
  {
   "cell_type": "code",
   "execution_count": null,
   "metadata": {},
   "outputs": [],
   "source": [
    "get_Data(\"majoonho\")"
   ]
  },
  {
   "cell_type": "code",
   "execution_count": null,
   "metadata": {},
   "outputs": [],
   "source": [
    "get_Data(\"kim\")"
   ]
  },
  {
   "cell_type": "code",
   "execution_count": null,
   "metadata": {},
   "outputs": [],
   "source": [
    "\n",
    "#리스트로 저장공간 만들기\n",
    "hash_list=[0 for i in range(10)]\n",
    "\n"
   ]
  },
  {
   "cell_type": "code",
   "execution_count": null,
   "metadata": {},
   "outputs": [],
   "source": [
    "hash_list"
   ]
  },
  {
   "cell_type": "code",
   "execution_count": null,
   "metadata": {},
   "outputs": [],
   "source": [
    "#hash talbe list 구현하기\n",
    "def hash_make(data):\n",
    "    H=hash(data)\n",
    "    return H\n",
    "    \n",
    "def hash_key(data):\n",
    "    return hash(data)%8\n",
    "\n",
    "def hash_save(data, value):\n",
    "    hash_list[hash_key(data)]=value\n",
    "    \n",
    "def hash_get(data):\n",
    "    return hash_list[hash_key(data)]"
   ]
  },
  {
   "cell_type": "code",
   "execution_count": null,
   "metadata": {},
   "outputs": [],
   "source": [
    "#has table list 구현하기 (중복데이터 처리) chaining 기법\n",
    "def hash_make(data):\n",
    "    H=hash(data)\n",
    "    return H\n",
    "    \n",
    "def hash_key(data):\n",
    "    return hash(data)%8\n",
    "\n",
    "def hash_save(data, value):\n",
    "    key=hash_key(data)\n",
    "    if hash_list[key] == 0 :\n",
    "        hash_list[key]=[[data, value]]\n",
    "        \n",
    "    else :\n",
    "        hash_list[key].append([data,value])\n",
    "    \n",
    "    \n",
    "def hash_get(data):\n",
    "    for i in range(len(hash_list[hash_key(data)])):\n",
    "        if hash_list[hash_key(data)][i][0]==data:\n",
    "              return hash_list[hash_key(data)][i][1]\n",
    "\n",
    "        "
   ]
  },
  {
   "cell_type": "code",
   "execution_count": null,
   "metadata": {},
   "outputs": [],
   "source": [
    "def hash_del(data):\n",
    "        for i in range(len(hash_list[hash_key(data)])):\n",
    "            if hash_list[hash_key(data)][i][0]==data:\n",
    "               del hash_list[hash_key(data)][i]\n",
    "    "
   ]
  },
  {
   "cell_type": "code",
   "execution_count": null,
   "metadata": {},
   "outputs": [],
   "source": [
    "hash_save(\"joonho\", \"ceo\")"
   ]
  },
  {
   "cell_type": "code",
   "execution_count": null,
   "metadata": {},
   "outputs": [],
   "source": [
    "hash_save(\"jfngo\",\"driver\")"
   ]
  },
  {
   "cell_type": "code",
   "execution_count": null,
   "metadata": {},
   "outputs": [],
   "source": [
    "hash_save(\"woodi\",\"student\")"
   ]
  },
  {
   "cell_type": "code",
   "execution_count": null,
   "metadata": {},
   "outputs": [],
   "source": [
    "hash_save(\"jungwoo\",\"student\")"
   ]
  },
  {
   "cell_type": "code",
   "execution_count": null,
   "metadata": {},
   "outputs": [],
   "source": [
    "hash_list"
   ]
  },
  {
   "cell_type": "code",
   "execution_count": null,
   "metadata": {},
   "outputs": [],
   "source": [
    "hash_get(\"woodi\")"
   ]
  },
  {
   "cell_type": "code",
   "execution_count": null,
   "metadata": {},
   "outputs": [],
   "source": [
    "hash_del(\"woodi\")"
   ]
  },
  {
   "cell_type": "code",
   "execution_count": null,
   "metadata": {},
   "outputs": [],
   "source": [
    "#has table list 구현하기 (중복데이터 처리) chaining 기법\n",
    "def hash_make(data):\n",
    "    H=hash(data)\n",
    "    return H\n",
    "    \n",
    "def hash_key(data):\n",
    "    return hash_make(data)%8\n",
    "\n",
    "def hash_save(data, value):\n",
    "    key=hash_key(data)\n",
    "    while hash_list[key]!=0:\n",
    "        key+= 1\n",
    "    hash_list[key]=value\n",
    "    \n",
    "    \n",
    "    \n",
    "def hash_get(data):\n",
    "    return hash_list[hash_key(data)]\n",
    "              \n"
   ]
  },
  {
   "cell_type": "code",
   "execution_count": null,
   "metadata": {},
   "outputs": [],
   "source": [
    "#리스트로 저장공간 만들기\n",
    "hash_list=[0 for i in range(10) ]"
   ]
  },
  {
   "cell_type": "code",
   "execution_count": null,
   "metadata": {},
   "outputs": [],
   "source": [
    "#has table list 구현하기 (중복데이터 처리) chaining 기법\n",
    "def hash_make(data):\n",
    "    H=hash(data)\n",
    "    return H\n",
    "    \n",
    "def hash_key(data):\n",
    "    return hash_make(data)%8\n",
    "\n",
    "def hash_save(data, value):\n",
    "    key=[hash_key(data),value][0]\n",
    "    while hash_list[key]!=0:\n",
    "        key+= 1\n",
    "    hash_list[key]=[data, value]\n",
    "    \n",
    "    \n",
    "    \n",
    "def hash_get(data):\n",
    "    key=hash_key(data)\n",
    "    while hash_list[key][0]!=data:\n",
    "        key+=1\n",
    "    return hash_list[key][1]\n",
    "              \n"
   ]
  },
  {
   "cell_type": "code",
   "execution_count": null,
   "metadata": {},
   "outputs": [],
   "source": [
    "hash_save(\"joonho\", \"ceo\")"
   ]
  },
  {
   "cell_type": "code",
   "execution_count": null,
   "metadata": {},
   "outputs": [],
   "source": [
    "hash_save(\"jfngo\",\"driver\")"
   ]
  },
  {
   "cell_type": "code",
   "execution_count": null,
   "metadata": {},
   "outputs": [],
   "source": [
    "hash_list"
   ]
  },
  {
   "cell_type": "code",
   "execution_count": null,
   "metadata": {},
   "outputs": [],
   "source": [
    "hash_get(\"joonho\")"
   ]
  },
  {
   "cell_type": "code",
   "execution_count": null,
   "metadata": {},
   "outputs": [],
   "source": [
    "hash_get(\"jfngo\")"
   ]
  },
  {
   "cell_type": "code",
   "execution_count": null,
   "metadata": {},
   "outputs": [],
   "source": [
    "hash_table = list([0 for i in range(8)])\n",
    "\n",
    "def get_key(data):\n",
    "    return hash(data)\n",
    "\n",
    "def hash_function(key):\n",
    "    return key % 8\n",
    "\n",
    "def save_data(data, value):\n",
    "    index_key = get_key(data)\n",
    "    hash_address = hash_function(index_key)\n",
    "    if hash_table[hash_address] != 0:\n",
    "        for index in range(hash_address, len(hash_table)):\n",
    "            if hash_table[index] == 0:\n",
    "                hash_table[index] = [index_key, value]\n",
    "                return\n",
    "            elif hash_table[index][0] == index_key:\n",
    "                hash_table[index][1] = value\n",
    "                return\n",
    "    else:\n",
    "        hash_table[hash_address] = [index_key, value]\n",
    "\n",
    "def read_data(data):\n",
    "    index_key = get_key(data)\n",
    "    hash_address = hash_function(index_key)\n",
    "    \n",
    "    if hash_table[hash_address] != 0:\n",
    "        for index in range(hash_address, len(hash_table)):\n",
    "            if hash_table[index] == 0:\n",
    "                return None\n",
    "            elif hash_table[index][0] == index_key:\n",
    "                return hash_table[index][1]\n",
    "    else:\n",
    "        return None\n"
   ]
  },
  {
   "cell_type": "code",
   "execution_count": null,
   "metadata": {},
   "outputs": [],
   "source": [
    "save_data(\"joonho\",12345)\n",
    "save_data(\"jfngo\",\"driver\")"
   ]
  },
  {
   "cell_type": "code",
   "execution_count": null,
   "metadata": {},
   "outputs": [],
   "source": [
    "hash_table"
   ]
  },
  {
   "cell_type": "code",
   "execution_count": null,
   "metadata": {},
   "outputs": [],
   "source": [
    "import hashlib"
   ]
  },
  {
   "cell_type": "code",
   "execution_count": null,
   "metadata": {},
   "outputs": [],
   "source": [
    "#백준 10818번\n",
    "\n",
    "i=int(input())\n",
    "a=list(map(int, input().split()))\n",
    "print(int(min(a)), int(max(a)))"
   ]
  },
  {
   "cell_type": "code",
   "execution_count": null,
   "metadata": {},
   "outputs": [],
   "source": [
    "\n"
   ]
  },
  {
   "cell_type": "code",
   "execution_count": null,
   "metadata": {},
   "outputs": [],
   "source": []
  },
  {
   "cell_type": "code",
   "execution_count": null,
   "metadata": {},
   "outputs": [],
   "source": [
    "number_List=[]\n",
    "for _ in range(9):\n",
    "    i=int(input())\n",
    "    number_List.append(i)\n",
    "    \n",
    "max = number_List[0]\n",
    "min = number_List[0]\n",
    "for x in range(1,9):\n",
    "    if number_List[x]>max:\n",
    "        \n",
    "        max=number_List[x]\n",
    "        rooms=x+1\n",
    "print(max)        \n",
    "print(rooms)  \n"
   ]
  },
  {
   "cell_type": "code",
   "execution_count": null,
   "metadata": {},
   "outputs": [],
   "source": [
    "number_List=[]\n",
    "for _ in range(9):\n",
    "    i=int(input())\n",
    "    number_List.append(i)\n",
    "    \n",
    "print(max(number_List))\n",
    "print(number_List.index(max(number_List))+1)"
   ]
  },
  {
   "cell_type": "code",
   "execution_count": null,
   "metadata": {},
   "outputs": [],
   "source": [
    "number_List"
   ]
  },
  {
   "cell_type": "code",
   "execution_count": null,
   "metadata": {},
   "outputs": [],
   "source": [
    "a=150\n",
    "b=266\n",
    "c=427\n"
   ]
  },
  {
   "cell_type": "code",
   "execution_count": null,
   "metadata": {},
   "outputs": [],
   "source": [
    "a=int(input())\n",
    "b=int(input())\n",
    "c=int(input())\n",
    "mul=a*b*c\n",
    "mul_Str=str(mul)\n",
    "for i in range(10):\n",
    "    print(mul_Str.count(f\"{i}\"))"
   ]
  },
  {
   "cell_type": "code",
   "execution_count": null,
   "metadata": {},
   "outputs": [],
   "source": [
    "#백준 3052번\n",
    "10%10"
   ]
  },
  {
   "cell_type": "code",
   "execution_count": null,
   "metadata": {},
   "outputs": [],
   "source": [
    "a=[]\n",
    "c=[]\n",
    "for i in range(10):\n",
    "    b=int(input())\n",
    "    a.append(b)\n",
    "for i in a:\n",
    "    c.append(i%42)\n",
    "d=set(c)\n",
    "print(len(d))\n",
    "\n",
    "    "
   ]
  },
  {
   "cell_type": "code",
   "execution_count": null,
   "metadata": {},
   "outputs": [],
   "source": [
    "v=[[1,4],[3,4],[3,10]]\n",
    "s=[[1,1],[2,2],[1,2]]"
   ]
  },
  {
   "cell_type": "code",
   "execution_count": null,
   "metadata": {},
   "outputs": [],
   "source": [
    "x=[]\n",
    "y=[]\n",
    "for i in s:\n",
    "    \n",
    "    x.append(i[0])\n",
    "    y.append(i[1])\n",
    "    "
   ]
  },
  {
   "cell_type": "code",
   "execution_count": null,
   "metadata": {},
   "outputs": [],
   "source": [
    "x,y"
   ]
  },
  {
   "cell_type": "code",
   "execution_count": null,
   "metadata": {},
   "outputs": [],
   "source": [
    "for i in x:\n",
    "    if x.count(i)!=2:\n",
    "        print(i)\n",
    "for i in y :\n",
    "    if y.count(i)!=2:\n",
    "        print(i)\n",
    "    "
   ]
  },
  {
   "cell_type": "code",
   "execution_count": null,
   "metadata": {},
   "outputs": [],
   "source": [
    "5/5"
   ]
  },
  {
   "cell_type": "code",
   "execution_count": null,
   "metadata": {},
   "outputs": [],
   "source": [
    "#백준 1546번\n",
    "subject=int(input())\n",
    "score=list(map(int,input().split()))\n",
    "max(score)\n",
    "New_score=[i/max(score)*100 for i in score]\n",
    "print(sum(New_score)/subject)\n"
   ]
  },
  {
   "cell_type": "code",
   "execution_count": null,
   "metadata": {},
   "outputs": [],
   "source": [
    "#백준 8958\n",
    "\n",
    "N=int(input())\n",
    "questions=[]\n",
    "for i in range(N):\n",
    "    questions.append(input())\n",
    "for i in questions :\n",
    "    O=i.split(\"X\")\n",
    "    sum=0\n",
    "    for i in O :\n",
    "        for x in range(1,len(i)+1):\n",
    "            sum+=x  \n",
    "    print(sum)"
   ]
  },
  {
   "cell_type": "code",
   "execution_count": null,
   "metadata": {},
   "outputs": [],
   "source": [
    "n=int(input())\n",
    "for i in range(0,n):\n",
    "    count,c=0,1\n",
    "    s=list(input())\n",
    "    for j in s:\n",
    "        if j=='O':\n",
    "            count+=c\n",
    "            c+=1\n",
    "        else:\n",
    "            c=1\n",
    "    print(count)"
   ]
  },
  {
   "cell_type": "code",
   "execution_count": null,
   "metadata": {},
   "outputs": [],
   "source": [
    "# 백준 4344번\n",
    "def Aver(data):\n",
    "    return sum(data)/len(data)\n",
    "    "
   ]
  },
  {
   "cell_type": "code",
   "execution_count": null,
   "metadata": {},
   "outputs": [],
   "source": [
    "N=int(input())\n",
    "score=list(map(int,input().split()))\n",
    "    \n",
    "\n",
    "over=[]\n",
    "for i in score[1:]:\n",
    "    \n",
    "    if i>Aver(score[1:]):\n",
    "       over.append(i)\n",
    "print(over)\n",
    "print('%.3f'%(len(over)/len(score[1:])*100)+'%')"
   ]
  },
  {
   "cell_type": "code",
   "execution_count": null,
   "metadata": {},
   "outputs": [],
   "source": [
    "def Aver(data):\n",
    "    return sum(data)/len(data)\n",
    "\n",
    "N=int(input())\n",
    "for i in range(N):\n",
    "    score=list(map(int,input().split()))\n",
    "        \n",
    "\n",
    "    over=[]\n",
    "    for i in score[1:]:\n",
    "        \n",
    "        if i>Aver(score[1:]):\n",
    "         over.append(i)\n",
    "    \n",
    "    print('%.3f'%(len(over)/len(score[1:])*100)+'%')"
   ]
  },
  {
   "cell_type": "code",
   "execution_count": null,
   "metadata": {},
   "outputs": [],
   "source": [
    "#백준 15596번\n",
    "def solve(list):\n",
    "    sum=0\n",
    "    for i in list:\n",
    "        sum+=i\n",
    "    return sum"
   ]
  },
  {
   "cell_type": "code",
   "execution_count": null,
   "metadata": {},
   "outputs": [],
   "source": [
    "#백준 4673번\n",
    "def str_Make(data):\n",
    "    x=[]\n",
    "    for i in data:\n",
    "        x.append(str(i))\n",
    "    return x\n",
    "\n",
    "\n",
    "def list_Make(data):\n",
    "    x=[]\n",
    "    for i in range(1,data+1):\n",
    "        x.append(i)\n",
    "    return x\n",
    "\n",
    "\n",
    "\n",
    "list100=list_Make(10000)\n",
    "str_list100=str_Make(list100)\n",
    "\n",
    "\n",
    "create=[]\n",
    "for i in str_list100:\n",
    "    c=[]\n",
    "    for x in range(len(i)):\n",
    "        c.append(int(i[x]))\n",
    "    \n",
    "    create.append(sum(c)+int(i))\n",
    "\n",
    "answer=list(set(list100)-set(create))\n",
    "answer.sort()\n",
    "for i in answer:\n",
    "    print(i)"
   ]
  },
  {
   "cell_type": "code",
   "execution_count": null,
   "metadata": {},
   "outputs": [],
   "source": [
    "a=850"
   ]
  },
  {
   "cell_type": "code",
   "execution_count": null,
   "metadata": {},
   "outputs": [],
   "source": [
    "for i in str(a):\n",
    "    print(i)"
   ]
  },
  {
   "cell_type": "code",
   "execution_count": null,
   "metadata": {},
   "outputs": [],
   "source": [
    "x=set()"
   ]
  },
  {
   "cell_type": "code",
   "execution_count": null,
   "metadata": {},
   "outputs": [],
   "source": [
    "x"
   ]
  },
  {
   "cell_type": "code",
   "execution_count": null,
   "metadata": {},
   "outputs": [],
   "source": [
    "x.add(1)"
   ]
  },
  {
   "cell_type": "code",
   "execution_count": null,
   "metadata": {},
   "outputs": [],
   "source": [
    "n_n=set(range(1,10000))\n",
    "g_n=set()\n",
    "\n",
    "for i in range(1,10001):\n",
    "    for j in str(i) :\n",
    "        i+=int(j)\n",
    "    g_n.add(i)\n",
    "\n",
    "self_num = (n_n-g_n)\n",
    "sorted(self_num)\n",
    "for i in sorted(self_num):\n",
    "    print(i)"
   ]
  },
  {
   "cell_type": "code",
   "execution_count": null,
   "metadata": {},
   "outputs": [],
   "source": [
    "#백준 1065 번 한수\n",
    "\n",
    "\n",
    "\n",
    "a=str(123)\n",
    "if int(a[1])-int(a[0])==int(a[2])-int(a[1]) :\n",
    "    print(a)\n",
    "else :\n",
    "    print(\"x\")"
   ]
  },
  {
   "cell_type": "code",
   "execution_count": null,
   "metadata": {},
   "outputs": [],
   "source": [
    "data=int(input())\n",
    "\n",
    "test=[]\n",
    "for i in range(1, data+1):\n",
    "    if i <=99:\n",
    "        test.append(i)    \n",
    "    elif (i>=100) and (i<=999) :\n",
    "        i=str(i)\n",
    "        if int(i[1])-int(i[0])==int(i[2])-int(i[1]) :\n",
    "         test.append(i)\n",
    "print(len(test))\n",
    "    \n",
    "            \n",
    "        "
   ]
  },
  {
   "cell_type": "code",
   "execution_count": null,
   "metadata": {},
   "outputs": [],
   "source": [
    "#백준 11654\n",
    "\n",
    "N=input()\n",
    "\n",
    "print(ord(N))"
   ]
  },
  {
   "cell_type": "code",
   "execution_count": null,
   "metadata": {},
   "outputs": [],
   "source": [
    "#백준 11720\n",
    "N=input()\n",
    "Ns=input()\n",
    "\n",
    "i=0\n",
    "for x in Ns:\n",
    "\n",
    "    i+=int(x)\n",
    "print(i)"
   ]
  },
  {
   "cell_type": "code",
   "execution_count": null,
   "metadata": {},
   "outputs": [],
   "source": [
    "#백준 10809\n",
    "alphabet=['a','b','c','d','e','f','g','h','i','j','k','l','m','n','o','p','q','r','s','t','u','v','w','x','y','z']\n",
    "x=input()\n",
    "\n",
    "for i in alphabet: \n",
    "    if i in x:\n",
    "        print(x.index(i), end=' ')\n",
    "    else :\n",
    "        print(-1,end=' ')\n",
    " \n",
    "        \n"
   ]
  },
  {
   "cell_type": "code",
   "execution_count": null,
   "metadata": {},
   "outputs": [],
   "source": [
    "#백준 2675번\n",
    "N=int(input())\n",
    "for i in range(N):\n",
    "    if i !=0 :\n",
    "        print()\n",
    "    a, b=input().split()\n",
    "    for i in b :\n",
    "        \n",
    "        print(i*int(a), end='')\n",
    "        \n",
    "        \n",
    "\n",
    "\n"
   ]
  },
  {
   "cell_type": "code",
   "execution_count": null,
   "metadata": {},
   "outputs": [],
   "source": [
    "a='AAABBBBCCCCD'"
   ]
  },
  {
   "cell_type": "code",
   "execution_count": null,
   "metadata": {},
   "outputs": [],
   "source": [
    "#백준 1157번\n",
    "\n",
    "alphabet=['a','b','c','d','e','f','g','h','i','j','k','l','m','n','o','p','q','r','s','t','u','v','w','x','y','z']\n",
    "alpha_Upper=[]\n",
    "for i in alphabet:\n",
    "    alpha_Upper.append(i.upper())\n",
    "    \n",
    "a=input()\n",
    "\n",
    "m=[]\n",
    "for i in alpha_Upper:\n",
    "    a=a.upper()\n",
    "    c=a.count(i)\n",
    "    if c!=0 :\n",
    "        m.append([c, i])\n",
    "n=[]\n",
    "for i in range(len(m)):\n",
    "    if m[i][0]==max(m)[0] :\n",
    "       n.append(m[i]) \n",
    "if len(n)>=2:\n",
    "    print(\"?\")\n",
    "else :\n",
    "    print(max(m)[1])"
   ]
  },
  {
   "cell_type": "code",
   "execution_count": null,
   "metadata": {},
   "outputs": [],
   "source": [
    "max(m)"
   ]
  },
  {
   "cell_type": "code",
   "execution_count": null,
   "metadata": {},
   "outputs": [],
   "source": [
    "'AAABBBBCCCCD'"
   ]
  },
  {
   "cell_type": "code",
   "execution_count": null,
   "metadata": {},
   "outputs": [],
   "source": [
    "words ='AAABBBBCCCCD'\n",
    "unique_words = list(set(words))  # 입력받은 문자열에서 중복값을 제거\n",
    "\n",
    "cnt_list = []\n",
    "for x in unique_words :\n",
    "    cnt = words.count(x)\n",
    "    cnt_list.append(cnt)  # count 숫자를 리스트에 append\n",
    "\n",
    "if cnt_list.count(max(cnt_list)) > 1 :  # count 숫자 최대값이 중복되면\n",
    "    print('?')\n",
    "else :\n",
    "    max_index = cnt_list.index(max(cnt_list))  # count 숫자 최대값 인덱스(위치)\n",
    "    print(unique_words[max_index])"
   ]
  },
  {
   "cell_type": "code",
   "execution_count": null,
   "metadata": {},
   "outputs": [],
   "source": [
    "unique_words"
   ]
  },
  {
   "cell_type": "code",
   "execution_count": null,
   "metadata": {},
   "outputs": [],
   "source": [
    "cnt_list"
   ]
  },
  {
   "cell_type": "code",
   "execution_count": null,
   "metadata": {},
   "outputs": [],
   "source": [
    "cnt_list.count(max(cnt_list))"
   ]
  },
  {
   "cell_type": "code",
   "execution_count": null,
   "metadata": {},
   "outputs": [],
   "source": [
    "cnt_list.index(max(cnt_list))"
   ]
  },
  {
   "cell_type": "code",
   "execution_count": null,
   "metadata": {},
   "outputs": [],
   "source": [
    "#백준 1152번\n",
    "\n",
    "a=input().split()\n",
    "len(a)"
   ]
  },
  {
   "cell_type": "code",
   "execution_count": null,
   "metadata": {},
   "outputs": [],
   "source": [
    "a\n"
   ]
  },
  {
   "cell_type": "code",
   "execution_count": null,
   "metadata": {},
   "outputs": [],
   "source": [
    "#백준 2908번\n",
    "a, b = input().split()\n",
    "x=a[2]+a[1]+a[0] \n",
    "y=b[2]+b[1]+b[0]\n",
    "\n",
    "if int(x)>int(y) :\n",
    "    print(x)\n",
    "else :\n",
    "    print(y)"
   ]
  },
  {
   "cell_type": "code",
   "execution_count": null,
   "metadata": {},
   "outputs": [],
   "source": [
    "#백준 5622번"
   ]
  },
  {
   "cell_type": "code",
   "execution_count": null,
   "metadata": {},
   "outputs": [],
   "source": [
    "dial = ['ABC', 'DEF', 'GHI', 'JKL', 'MNO', 'PQRS', 'TUV', 'WXYZ']\n",
    "a = input()\n",
    "ret = 0\n",
    "for j in range(len(a)):\n",
    "    for i in dial:\n",
    "        if a[j] in i:\n",
    "            ret += dial.index(i)+3\n",
    "    "
   ]
  },
  {
   "cell_type": "code",
   "execution_count": null,
   "metadata": {},
   "outputs": [],
   "source": [
    "X={'A':3,\"B\":3,\"C\":3,\"D\":4,\"E\":4,\"F\":4,\"G\":5,\"H\":5,\"I\":5,\"J\":6,\"K\":6,\"L\":6,\n",
    "   \"M\":7,\"N\":7,\"O\":7,\"P\":8,\"Q\":8,\"R\":8,\"S\":8,\"T\":9,\"U\":9,\"V\":9,\"W\":10,\"X\":10,\"Y\":10,\"Z\":10}"
   ]
  },
  {
   "cell_type": "code",
   "execution_count": null,
   "metadata": {},
   "outputs": [],
   "source": [
    "E=list(input())\n",
    "answer=[]\n",
    "for i in E:\n",
    "    answer.append(X[i])\n",
    "\n",
    "print(sum(answer))"
   ]
  },
  {
   "cell_type": "code",
   "execution_count": null,
   "metadata": {},
   "outputs": [],
   "source": []
  },
  {
   "cell_type": "code",
   "execution_count": null,
   "metadata": {},
   "outputs": [],
   "source": [
    "a=['c=','c-','dz=','d-','lj','nj','s=','z=']\n",
    "\n",
    "b=input()\n",
    "for i in a:\n",
    "    if i in b:\n",
    "        b=b.replace(i, '*')\n",
    "        \n",
    "    \n",
    "        \n",
    "print(len(b))"
   ]
  },
  {
   "cell_type": "code",
   "execution_count": null,
   "metadata": {},
   "outputs": [],
   "source": [
    "len(b)"
   ]
  },
  {
   "cell_type": "code",
   "execution_count": null,
   "metadata": {},
   "outputs": [],
   "source": [
    "a=['c=','c-','dz=','d-','lj','nj','s=','z=']\n",
    "c=0\n",
    "for i in a:\n",
    "    print('ljes=njak'.count(i))\n",
    "        "
   ]
  },
  {
   "cell_type": "code",
   "execution_count": null,
   "metadata": {},
   "outputs": [],
   "source": [
    "v[0]=\"q\""
   ]
  },
  {
   "cell_type": "code",
   "execution_count": null,
   "metadata": {},
   "outputs": [],
   "source": [
    "#버블정렬\n",
    "def bubblesort(a):\n",
    "    for i in range(len(a)-1):\n",
    "        swap=False\n",
    "        for x in range(len(a)-i-1):\n",
    "            if a[x]>a[x+1]:\n",
    "                a[x], a[x+1] = a[x+1], a[x]\n",
    "                swap=True\n",
    "        if swap ==False:\n",
    "            break                \n",
    "    return a\n",
    "                "
   ]
  },
  {
   "cell_type": "code",
   "execution_count": null,
   "metadata": {},
   "outputs": [],
   "source": [
    "a=[5,3,1,2,4]"
   ]
  },
  {
   "cell_type": "code",
   "execution_count": null,
   "metadata": {},
   "outputs": [],
   "source": [
    "import random"
   ]
  },
  {
   "cell_type": "code",
   "execution_count": null,
   "metadata": {},
   "outputs": [],
   "source": [
    "data_list=random.sample(range(100),50)"
   ]
  },
  {
   "cell_type": "code",
   "execution_count": null,
   "metadata": {},
   "outputs": [],
   "source": [
    "print(bubblesort(data_list),end=' ')"
   ]
  },
  {
   "cell_type": "code",
   "execution_count": null,
   "metadata": {},
   "outputs": [],
   "source": [
    "#삽입정렬\n",
    "def insertsort(a):\n",
    "    for i in range(len(a)-1):\n",
    "        \n",
    "        for x in range(i+1,0,-1):\n",
    "            if a[x]<a[x-1]:\n",
    "                a[x], a[x-1] = a[x-1], a[x]\n",
    "            else:\n",
    "                break                \n",
    "    return a"
   ]
  },
  {
   "cell_type": "code",
   "execution_count": null,
   "metadata": {},
   "outputs": [],
   "source": [
    "print(insertsort(data_list),end=' ')"
   ]
  },
  {
   "cell_type": "code",
   "execution_count": null,
   "metadata": {},
   "outputs": [],
   "source": [
    "\n",
    "for x in range(1,0,-1):\n",
    "    print(x)"
   ]
  },
  {
   "cell_type": "code",
   "execution_count": null,
   "metadata": {},
   "outputs": [],
   "source": [
    "data=[5,7,3,1]\n"
   ]
  },
  {
   "cell_type": "code",
   "execution_count": null,
   "metadata": {},
   "outputs": [],
   "source": [
    "#선택정렬\n",
    "data=[5,7,3,1]\n",
    "\n",
    "for i in range(len(data)-1):\n",
    "    lowest= i\n",
    "    print(\"기준점 :\", lowest)\n",
    "    for x in range(1+i, len(data)):\n",
    "        if data[lowest]>data[x]:\n",
    "            lowest=x\n",
    "    data[i], data[lowest] = data[lowest] , data[i]\n",
    "            \n",
    "print(data)"
   ]
  },
  {
   "cell_type": "code",
   "execution_count": null,
   "metadata": {},
   "outputs": [],
   "source": [
    "data=[5,7,3,1]\n",
    "\n",
    "for i in range(len(data)-1):\n",
    "    lowest= i\n",
    "    print(\"기준점 :\", lowest)\n",
    "    for x in range(i+1, len(data)):\n",
    "        if data[lowest]>data[x]:\n",
    "            lowest=x\n",
    "    data[lowest] , data[i]=data[i], data[lowest]\n",
    "    print(data)\n",
    "    print(lowest)        \n",
    "print(data)"
   ]
  },
  {
   "cell_type": "code",
   "execution_count": null,
   "metadata": {},
   "outputs": [],
   "source": [
    "#재귀함수\n",
    "def mul(data):\n",
    "    if data<1:\n",
    "        return 1\n",
    "    data1=data*mul(data-1) \n",
    "    return data1\n"
   ]
  },
  {
   "cell_type": "code",
   "execution_count": null,
   "metadata": {},
   "outputs": [],
   "source": [
    "mul(10)"
   ]
  },
  {
   "cell_type": "code",
   "execution_count": null,
   "metadata": {},
   "outputs": [],
   "source": [
    "import random"
   ]
  },
  {
   "cell_type": "code",
   "execution_count": null,
   "metadata": {},
   "outputs": [],
   "source": [
    "random.seed(83)\n",
    "list=random.sample(range(10),5)"
   ]
  },
  {
   "cell_type": "code",
   "execution_count": null,
   "metadata": {},
   "outputs": [],
   "source": [
    "list"
   ]
  },
  {
   "cell_type": "code",
   "execution_count": null,
   "metadata": {},
   "outputs": [],
   "source": [
    "def sum(data):\n",
    "    if len(data)<=1 :\n",
    "        return data[0]\n",
    "        \n",
    "    return data[0]+sum(data[1:])"
   ]
  },
  {
   "cell_type": "code",
   "execution_count": null,
   "metadata": {},
   "outputs": [],
   "source": [
    "list[0]"
   ]
  },
  {
   "cell_type": "code",
   "execution_count": null,
   "metadata": {},
   "outputs": [],
   "source": [
    "sum(list)"
   ]
  },
  {
   "cell_type": "code",
   "execution_count": 107,
   "metadata": {},
   "outputs": [],
   "source": [
    "def pal(data):\n",
    "    if len(data)<=1:\n",
    "        return True\n",
    "    \n",
    "    if data[0]==data[-1]   :\n",
    "        return pal(data[1:-1])\n",
    "    else :\n",
    "        return False        \n",
    "    \n",
    "    \n",
    "\n"
   ]
  },
  {
   "cell_type": "code",
   "execution_count": 108,
   "metadata": {},
   "outputs": [
    {
     "data": {
      "text/plain": [
       "True"
      ]
     },
     "execution_count": 108,
     "metadata": {},
     "output_type": "execute_result"
    }
   ],
   "source": [
    "pal(\"oxo\")"
   ]
  },
  {
   "cell_type": "code",
   "execution_count": 89,
   "metadata": {},
   "outputs": [
    {
     "ename": "NameError",
     "evalue": "name 'answer' is not defined",
     "output_type": "error",
     "traceback": [
      "\u001b[1;31m---------------------------------------------------------------------------\u001b[0m",
      "\u001b[1;31mNameError\u001b[0m                                 Traceback (most recent call last)",
      "\u001b[1;32mc:\\Users\\Home\\Documents\\dev\\TIL\\python\\baekjoon.ipynb 셀 198\u001b[0m in \u001b[0;36m<cell line: 1>\u001b[1;34m()\u001b[0m\n\u001b[1;32m----> <a href='vscode-notebook-cell:/c%3A/Users/Home/Documents/dev/TIL/python/baekjoon.ipynb#ch0000201?line=0'>1</a>\u001b[0m compare(\u001b[39m'\u001b[39;49m\u001b[39mOTO\u001b[39;49m\u001b[39m'\u001b[39;49m)\n",
      "\u001b[1;32mc:\\Users\\Home\\Documents\\dev\\TIL\\python\\baekjoon.ipynb 셀 198\u001b[0m in \u001b[0;36mcompare\u001b[1;34m(data)\u001b[0m\n\u001b[0;32m      <a href='vscode-notebook-cell:/c%3A/Users/Home/Documents/dev/TIL/python/baekjoon.ipynb#ch0000201?line=7'>8</a>\u001b[0m \u001b[39mdef\u001b[39;00m \u001b[39mcompare\u001b[39m(data)    :\n\u001b[1;32m----> <a href='vscode-notebook-cell:/c%3A/Users/Home/Documents/dev/TIL/python/baekjoon.ipynb#ch0000201?line=8'>9</a>\u001b[0m     \u001b[39mif\u001b[39;00m \u001b[39mstr\u001b[39m(data) \u001b[39m==\u001b[39m \u001b[39mstr\u001b[39m(answer) :\n\u001b[0;32m     <a href='vscode-notebook-cell:/c%3A/Users/Home/Documents/dev/TIL/python/baekjoon.ipynb#ch0000201?line=9'>10</a>\u001b[0m         \u001b[39mreturn\u001b[39;00m \u001b[39m\"\u001b[39m\u001b[39mO\u001b[39m\u001b[39m\"\u001b[39m\n\u001b[0;32m     <a href='vscode-notebook-cell:/c%3A/Users/Home/Documents/dev/TIL/python/baekjoon.ipynb#ch0000201?line=10'>11</a>\u001b[0m     \u001b[39melse\u001b[39;00m :\n",
      "\u001b[1;31mNameError\u001b[0m: name 'answer' is not defined"
     ]
    }
   ],
   "source": [
    "def compare(data)    :\n",
    "    if data == answer :\n",
    "        return \"O\"\n",
    "    else :\n",
    "        return \"X\""
   ]
  },
  {
   "cell_type": "code",
   "execution_count": 3,
   "metadata": {},
   "outputs": [
    {
     "name": "stdout",
     "output_type": "stream",
     "text": [
      "list1 is empty\n",
      "list2 is not empty\n"
     ]
    }
   ],
   "source": [
    "list1 = []\n",
    "list2 = [1, 2, 3]\n",
    "\n",
    "if  not list1:\n",
    "    print(\"list1 is empty\")\n",
    "\n",
    "if list2:\n",
    "    print(\"list2 is not empty\")"
   ]
  },
  {
   "cell_type": "code",
   "execution_count": 5,
   "metadata": {},
   "outputs": [
    {
     "name": "stdout",
     "output_type": "stream",
     "text": [
      "list1 has no item\n"
     ]
    }
   ],
   "source": [
    "list1 = []\n",
    "list2 = [1, 2, 3]\n",
    "\n",
    "item = 4\n",
    "if item not in list1:\n",
    "    print(\"list1 has no item\")\n",
    "\n",
    "if item in list2:\n",
    "    print(\"list2 has item\")"
   ]
  },
  {
   "cell_type": "code",
   "execution_count": null,
   "metadata": {},
   "outputs": [],
   "source": []
  }
 ],
 "metadata": {
  "kernelspec": {
   "display_name": "Python 3 (ipykernel)",
   "language": "python",
   "name": "python3"
  },
  "language_info": {
   "codemirror_mode": {
    "name": "ipython",
    "version": 3
   },
   "file_extension": ".py",
   "mimetype": "text/x-python",
   "name": "python",
   "nbconvert_exporter": "python",
   "pygments_lexer": "ipython3",
   "version": "3.10.4"
  },
  "vscode": {
   "interpreter": {
    "hash": "369f2c481f4da34e4445cda3fffd2e751bd1c4d706f27375911949ba6bb62e1c"
   }
  }
 },
 "nbformat": 4,
 "nbformat_minor": 2
}
